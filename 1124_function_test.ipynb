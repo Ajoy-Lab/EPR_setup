{
 "cells": [
  {
   "cell_type": "code",
   "id": "initial_id",
   "metadata": {
    "collapsed": true,
    "ExecuteTime": {
     "end_time": "2024-11-26T00:05:59.159130Z",
     "start_time": "2024-11-26T00:05:58.172773Z"
    }
   },
   "source": [
    "import numpy as np\n",
    "import matplotlib.pyplot as plt\n",
    "from AWG_function import *"
   ],
   "outputs": [],
   "execution_count": 1
  },
  {
   "metadata": {
    "ExecuteTime": {
     "end_time": "2024-11-26T00:06:05.828353Z",
     "start_time": "2024-11-26T00:05:59.159130Z"
    }
   },
   "cell_type": "code",
   "source": "inst=connect_PXI()",
   "id": "8e0fd112d079ed81",
   "outputs": [
    {
     "name": "stdout",
     "output_type": "stream",
     "text": [
      "Load TEProteus.dll from : C:\\Windows\\system32\\TEProteus.dll\n",
      "connected to: Tabor Electronics,P9484M,000002243278,1.237.0 --slot#: 8,\n"
     ]
    }
   ],
   "execution_count": 2
  },
  {
   "metadata": {
    "ExecuteTime": {
     "end_time": "2024-11-26T00:06:09.296976Z",
     "start_time": "2024-11-26T00:06:05.908868Z"
    }
   },
   "cell_type": "code",
   "source": [
    "I=1/2*np.ones(480)\n",
    "Q=1/2*np.zeros(480)\n",
    "\n",
    "\n",
    "carrier_frequency=100E6\n",
    "configurate_one_DAC(inst=inst,channel=1,carrier_frequency=carrier_frequency,trigger_channel=1)\n",
    "pulse_1ns=segment(inst=inst,segnum=1)\n",
    "# pulse_1ns.default_pulse(length=480,amplitude=0.5,phase=0,type='sine')\n",
    "pulse_1ns.custom_pulse(I,Q)\n",
    "pulse_1ns.compile_and_download_segment()\n",
    "\n",
    "\n",
    "empty = segment(inst=inst, segnum=2)\n",
    "empty.default_pulse(length=480, amplitude=0.5, phase=0, type='empty')\n",
    "empty.compile_and_download_segment()"
   ],
   "id": "46563791a225cca3",
   "outputs": [
    {
     "name": "stdout",
     "output_type": "stream",
     "text": [
      "DAC sample rate 1.00GS/s, SCLK 8.00GS/s\n",
      "DAC minimun segment length 32.0ns, segment granuality 16.0ns\n",
      "DAC configuration successful\n",
      "channel 1, segment 1 downloaded, length 480.0ns\n",
      "channel 1, segment 2 downloaded, length 480.0ns\n"
     ]
    }
   ],
   "execution_count": 3
  },
  {
   "metadata": {
    "ExecuteTime": {
     "end_time": "2024-11-26T00:06:09.942570Z",
     "start_time": "2024-11-26T00:06:09.344348Z"
    }
   },
   "cell_type": "code",
   "source": [
    "ch1_task=task_table(inst=inst,length=3)\n",
    "ch1_task.new_task(tasknum=1,segnum=1,ext_trigger_ch=1,digitizer_trigger=False,next_task=2)\n",
    "ch1_task.new_task(tasknum=2,segnum=2,ext_trigger_ch=0,digitizer_trigger=True,next_task=3)\n",
    "ch1_task.new_task(tasknum=3,segnum=1,ext_trigger_ch=0,digitizer_trigger=False,next_task=1)\n",
    "ch1_task.download_task_table()"
   ],
   "id": "d47ea7bb943da319",
   "outputs": [
    {
     "name": "stdout",
     "output_type": "stream",
     "text": [
      "channel 1 task table downloaded\n"
     ]
    }
   ],
   "execution_count": 4
  },
  {
   "metadata": {
    "ExecuteTime": {
     "end_time": "2024-11-26T00:06:13.043331Z",
     "start_time": "2024-11-26T00:06:11.327271Z"
    }
   },
   "cell_type": "code",
   "source": "ch1_digitizer=digitizer(address={'inst':inst,'channel':1},task_trigger_channel=1,carrier_frequency=carrier_frequency,numframes=1,framelen=4800)",
   "id": "925061818042fb63",
   "outputs": [
    {
     "name": "stdout",
     "output_type": "stream",
     "text": [
      "digitizer sample rate 0.12GS/s, SCLK 2.00GS/s\n",
      "digitizer granularity 384.0ns\n",
      "Channel 1 acquisition frame Length 19200.0 ns, frame number 1\n"
     ]
    }
   ],
   "execution_count": 5
  },
  {
   "metadata": {
    "ExecuteTime": {
     "end_time": "2024-11-25T23:49:03.400944Z",
     "start_time": "2024-11-25T23:49:03.391553Z"
    }
   },
   "cell_type": "code",
   "source": "ch1_digitizer.inquire_acquisition()",
   "id": "8a5a197f50579336",
   "outputs": [
    {
     "data": {
      "text/plain": [
       "(0, 0)"
      ]
     },
     "execution_count": 6,
     "metadata": {},
     "output_type": "execute_result"
    }
   ],
   "execution_count": 6
  },
  {
   "metadata": {
    "ExecuteTime": {
     "end_time": "2024-11-25T23:49:21.816298Z",
     "start_time": "2024-11-25T23:49:21.806381Z"
    }
   },
   "cell_type": "code",
   "source": "ch1_digitizer.read_digitizer_data()",
   "id": "8e285e8e899805aa",
   "outputs": [
    {
     "name": "stdout",
     "output_type": "stream",
     "text": [
      "Total read size in bytes: 19200\n",
      "acquired 2400 complex points\n"
     ]
    }
   ],
   "execution_count": 7
  },
  {
   "metadata": {
    "ExecuteTime": {
     "end_time": "2024-11-25T23:51:04.497909Z",
     "start_time": "2024-11-25T23:51:04.354010Z"
    }
   },
   "cell_type": "code",
   "source": "plt.plot(ch1_digitizer.wavQ[0:1000])",
   "id": "ed8379871b629ef1",
   "outputs": [
    {
     "data": {
      "text/plain": [
       "[<matplotlib.lines.Line2D at 0x239c51487a0>]"
      ]
     },
     "execution_count": 9,
     "metadata": {},
     "output_type": "execute_result"
    },
    {
     "data": {
      "text/plain": [
       "<Figure size 640x480 with 1 Axes>"
      ],
      "image/png": "[encoded data removed]"
     },
     "metadata": {},
     "output_type": "display_data"
    }
   ],
   "execution_count": 9
  },
  {
   "metadata": {
    "ExecuteTime": {
     "end_time": "2024-11-25T21:42:37.582481Z",
     "start_time": "2024-11-25T21:42:35.867568Z"
    }
   },
   "cell_type": "code",
   "source": [
    "numframes, framelen = 1, 4800 # remember multiple of 96\n",
    "totlen = numframes * framelen\n",
    "print('Waveform Length {0}'.format(totlen))\n",
    "wav1 = np.zeros(totlen, dtype=np.uint32)\n",
    "sampleRateADC = SampleRateADC\n",
    "cmd = ':DIG:MODE DUAL'\n",
    "inst.send_scpi_cmd(cmd)\n",
    "print('ADC Clk Freq {0}'.format(sampleRateADC))\n",
    "cmd = ':DIG:FREQ  {0}'.format(sampleRateADC)\n",
    "inst.send_scpi_cmd(cmd)\n",
    "print('Aquisition Length {0}'.format(framelen/2/sampleRateADC*16)) # x16 decimation\n",
    "resp = inst.send_scpi_query(':DIG:FREQ?')\n",
    "print(\"Dig Frequency = \")\n",
    "print(resp)\n",
    "# Enable capturing data from channel 1\n",
    "cmd = ':DIG:CHAN:SEL 1'\n",
    "inst.send_scpi_cmd(cmd)\n",
    "resp = inst.send_scpi_query(':SYST:ERR?')\n",
    "print(\"Dig error = \")\n",
    "print(resp)\n",
    "cmd = ':DIG:DDC:MODE COMP'   # DDC activation to complex i+jq\n",
    "inst.send_scpi_cmd(cmd)\n",
    "cmd = ':DIG:DDC:CFR1 {0}'.format(100E6)\n",
    "inst.send_scpi_cmd(cmd)\n",
    "cmd = ':DIG:DDC:PHAS1 0'\n",
    "inst.send_scpi_cmd(cmd)\n",
    "cmd = ':DIG:DDC:CLKS AWG'\n",
    "rc = inst.send_scpi_cmd(cmd)\n",
    "resp = inst.send_scpi_query(':SYST:ERR?')\n",
    "print(\"Set complex error = \")\n",
    "print(resp)\n",
    "cmd = ':DIG:CHAN:STATE ENAB'\n",
    "inst.send_scpi_cmd(cmd)\n",
    "# trigger from the task list\n",
    "cmd = ':DIG:TRIG:SOURCE TASK1'\n",
    "inst.send_scpi_cmd(cmd)\n",
    "dig_system_delay=560E-9\n",
    "cmd=':INST:CHAN:SEL 1'\n",
    "inst.send_scpi_cmd(cmd)\n",
    "# need to set the delay for individual output channel\n",
    "cmd = ':DIG:TRIG:AWG:TDEL {0}'.format(dig_system_delay)\n",
    "inst.send_scpi_cmd(cmd)\n",
    "cmd = ':DIG:ACQuire:FRAM:DEF {0},{1}'.format(numframes, framelen)\n",
    "inst.send_scpi_cmd(cmd)\n",
    "# Select the frames for the capturing\n",
    "capture_first, capture_count = 1, numframes\n",
    "cmd = ':DIG:ACQuire:FRAM:CAPT {0},{1}'.format(capture_first, capture_count)\n",
    "inst.send_scpi_cmd(cmd)"
   ],
   "id": "5c66a904552e6927",
   "outputs": [
    {
     "name": "stdout",
     "output_type": "stream",
     "text": [
      "Waveform Length 4800\n",
      "ADC Clk Freq 2000000000.0\n",
      "Aquisition Length 1.92e-05\n",
      "Dig Frequency = \n",
      "2000000000.000\n",
      "Dig error = \n",
      "0, no error\n",
      "Set complex error = \n",
      "0, no error\n"
     ]
    },
    {
     "data": {
      "text/plain": [
       "0"
      ]
     },
     "execution_count": 16,
     "metadata": {},
     "output_type": "execute_result"
    }
   ],
   "execution_count": 16
  },
  {
   "metadata": {
    "ExecuteTime": {
     "end_time": "2024-11-25T21:42:45.158339Z",
     "start_time": "2024-11-25T21:42:40.378620Z"
    }
   },
   "cell_type": "code",
   "source": [
    "import time\n",
    "inst.send_scpi_cmd(':DIG:INIT OFF')\n",
    "\n",
    "inst.send_scpi_cmd(':DIG:INIT ON')\n",
    "\n",
    "cmd = '*TRG'\n",
    "\n",
    "inst.send_scpi_cmd(cmd)\n",
    "\n",
    " \n",
    "\n",
    "frameRx = 0\n",
    "\n",
    "times = 0\n",
    "\n",
    "while (frameRx != 1):\n",
    "\n",
    "    resp = inst.send_scpi_query(':DIG:ACQuire:FRAM:STATus?')\n",
    "\n",
    "    framesParam = resp.split(\",\")\n",
    "\n",
    "    frameRx = int(framesParam[1])\n",
    "\n",
    "    times += 1\n",
    "\n",
    "    time.sleep(0.1)\n",
    "\n",
    "    # if times > 100:\n",
    "\n",
    "    #     break\n",
    "\n",
    "    #     # end time and print time\n",
    "\n",
    "    print(resp)\n",
    "\n",
    "inst.send_scpi_cmd(':DIG:INIT OFF')"
   ],
   "id": "a6361e7f2be6f2d2",
   "outputs": [
    {
     "name": "stdout",
     "output_type": "stream",
     "text": [
      "1,0,0,0\n",
      "1,0,0,0\n",
      "1,0,0,0\n",
      "1,0,0,0\n",
      "1,0,0,0\n",
      "1,0,0,0\n",
      "1,0,0,0\n",
      "1,0,0,0\n",
      "1,0,0,0\n",
      "1,0,0,0\n",
      "1,0,0,0\n",
      "1,0,0,0\n",
      "1,0,0,0\n",
      "1,0,0,0\n",
      "1,0,0,0\n",
      "1,0,0,0\n",
      "1,0,0,0\n",
      "1,0,0,0\n",
      "1,0,0,0\n",
      "1,0,0,0\n",
      "1,0,0,0\n",
      "1,0,0,0\n",
      "1,0,0,0\n",
      "1,0,0,0\n",
      "1,0,0,0\n",
      "1,0,0,0\n",
      "1,0,0,0\n",
      "1,0,0,0\n",
      "1,0,0,0\n",
      "1,0,0,0\n",
      "1,0,0,0\n",
      "1,0,0,0\n",
      "1,0,0,0\n",
      "1,0,0,0\n",
      "1,0,0,0\n",
      "1,0,0,0\n",
      "1,0,0,0\n",
      "1,0,0,0\n",
      "1,0,0,0\n",
      "1,0,0,0\n",
      "1,0,0,0\n",
      "1,0,0,0\n",
      "1,0,0,0\n",
      "1,0,0,0\n",
      "1,0,0,0\n",
      "1,1,0,1\n"
     ]
    },
    {
     "data": {
      "text/plain": [
       "0"
      ]
     },
     "execution_count": 17,
     "metadata": {},
     "output_type": "execute_result"
    }
   ],
   "execution_count": 17
  },
  {
   "metadata": {
    "ExecuteTime": {
     "end_time": "2024-11-25T21:42:49.789925Z",
     "start_time": "2024-11-25T21:42:49.603403Z"
    }
   },
   "cell_type": "code",
   "source": [
    "###############################################################################\n",
    "# Choose which frames to read (all in this example)\n",
    "cmd = ':DIG:DATA:SEL ALL'\n",
    "inst.send_scpi_cmd(cmd)\n",
    "# Choose what to read\n",
    "# (only the frame-data without the header in this example)\n",
    "cmd = ':DIG:DATA:TYPE FRAM'\n",
    "inst.send_scpi_cmd(cmd)\n",
    "# Get the total data size (in bytes)\n",
    "resp = inst.send_scpi_query(':DIG:DATA:SIZE?')\n",
    "num_bytes = np.uint32(resp)\n",
    "print('Total read size in bytes: ' + resp)\n",
    "print()\n",
    "# Read the data that was captured by channel 1:\n",
    "inst.send_scpi_cmd(':DIG:CHAN:SEL 1')\n",
    "wavlen = num_bytes // 2\n",
    "rc = inst.read_binary_data(':DIG:DATA:READ?', wav1, wavlen)\n",
    "cmd=':DIG:ACQ:ZERO:ALL 0'\n",
    "inst.send_scpi_cmd(cmd)\n",
    "################################################################################\n",
    "wav1 = np.int32(wav1) - 16384\n",
    "print(len(wav1))\n",
    "wavlen = int(len(wav1)/2)\n",
    "wavI=wav1[0::2]\n",
    "wavQ=wav1[1::2]\n",
    "wavI = wavI.astype(float)\n",
    "wavQ = wavQ.astype(float)\n",
    "print(len(wavI))\n",
    "print(len(wavQ))\n",
    "fig, axs = plt.subplots(2)\n",
    "fig.suptitle('I & Q')\n",
    "axs[0].plot(wavI)\n",
    "axs[1].plot(wavQ)\n",
    "plt.show()"
   ],
   "id": "4e9b048124aed4fd",
   "outputs": [
    {
     "name": "stdout",
     "output_type": "stream",
     "text": [
      "Total read size in bytes: 19200\n",
      "\n",
      "4800\n",
      "2400\n",
      "2400\n"
     ]
    },
    {
     "data": {
      "text/plain": [
       "<Figure size 640x480 with 2 Axes>"
      ],
      "image/png": "[encoded data removed]"
     },
     "metadata": {},
     "output_type": "display_data"
    }
   ],
   "execution_count": 18
  },
  {
   "metadata": {
    "ExecuteTime": {
     "end_time": "2024-11-25T06:58:08.399567Z",
     "start_time": "2024-11-25T06:58:08.266258Z"
    }
   },
   "cell_type": "code",
   "source": "",
   "id": "818bc1744ff06cb5",
   "outputs": [
    {
     "data": {
      "text/plain": [
       "[<matplotlib.lines.Line2D at 0x1f7c5561460>]"
      ]
     },
     "execution_count": 29,
     "metadata": {},
     "output_type": "execute_result"
    },
    {
     "data": {
      "text/plain": [
       "<Figure size 640x480 with 1 Axes>"
      ],
      "image/png": "[encoded data removed]"
     },
     "metadata": {},
     "output_type": "display_data"
    }
   ],
   "execution_count": 29
  },
  {
   "metadata": {
    "ExecuteTime": {
     "end_time": "2024-11-25T22:36:29.593897Z",
     "start_time": "2024-11-25T22:36:29.582635Z"
    }
   },
   "cell_type": "code",
   "source": "inst.send_scpi_query(':VOLT?')",
   "id": "6797432389d3cc7c",
   "outputs": [
    {
     "data": {
      "text/plain": [
       "'0.5'"
      ]
     },
     "execution_count": 13,
     "metadata": {},
     "output_type": "execute_result"
    }
   ],
   "execution_count": 13
  },
  {
   "metadata": {
    "ExecuteTime": {
     "end_time": "2024-11-25T22:30:38.360893Z",
     "start_time": "2024-11-25T22:30:38.352634Z"
    }
   },
   "cell_type": "code",
   "source": "(0.25)**2/2/50",
   "id": "b25bb0522474a03c",
   "outputs": [
    {
     "data": {
      "text/plain": [
       "0.000625"
      ]
     },
     "execution_count": 6,
     "metadata": {},
     "output_type": "execute_result"
    }
   ],
   "execution_count": 6
  },
  {
   "metadata": {},
   "cell_type": "code",
   "outputs": [],
   "execution_count": null,
   "source": "",
   "id": "4747f1600e7443cc"
  }
 ],
 "metadata": {
  "kernelspec": {
   "display_name": "Python 3",
   "language": "python",
   "name": "python3"
  },
  "language_info": {
   "codemirror_mode": {
    "name": "ipython",
    "version": 2
   },
   "file_extension": ".py",
   "mimetype": "text/x-python",
   "name": "python",
   "nbconvert_exporter": "python",
   "pygments_lexer": "ipython2",
   "version": "2.7.6"
  }
 },
 "nbformat": 4,
 "nbformat_minor": 5
}
