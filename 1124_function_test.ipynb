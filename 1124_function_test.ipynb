{
 "cells": [
  {
   "cell_type": "code",
   "id": "initial_id",
   "metadata": {
    "collapsed": true,
    "ExecuteTime": {
     "end_time": "2024-11-25T04:56:37.647045Z",
     "start_time": "2024-11-25T04:56:36.691682Z"
    }
   },
   "source": [
    "import numpy as np\n",
    "import matplotlib.pyplot as plt\n",
    "from AWG_function import *"
   ],
   "outputs": [],
   "execution_count": 1
  },
  {
   "metadata": {
    "ExecuteTime": {
     "end_time": "2024-11-25T04:56:45.366139Z",
     "start_time": "2024-11-25T04:56:38.720408Z"
    }
   },
   "cell_type": "code",
   "source": "inst=connect_PXI()",
   "id": "8e0fd112d079ed81",
   "outputs": [
    {
     "name": "stdout",
     "output_type": "stream",
     "text": [
      "Load TEProteus.dll from : C:\\Windows\\system32\\TEProteus.dll\n",
      "connected to: Tabor Electronics,P9484M,000002243278,1.237.0 --slot#: 8,\n"
     ]
    }
   ],
   "execution_count": 2
  },
  {
   "metadata": {
    "ExecuteTime": {
     "end_time": "2024-11-25T04:44:25.997412Z",
     "start_time": "2024-11-25T04:44:22.033143Z"
    }
   },
   "cell_type": "code",
   "source": [
    "#wavefore parameters\n",
    "max_dac=65535 # Max Dac\n",
    "half_dac=max_dac/2 # DC Level\n",
    "data_type = np.uint16 # DAC data type\n",
    "onLen = 32 * 20 # Pulse on time multiple of 32 or 28ns\n",
    "segTime = onLen / (SampleRateDAC_IQ)\n",
    "print('On time')\n",
    "print(segTime)\n",
    "dacWaveOn_I = np.ones(onLen)\n",
    "dacWaveOn_I = dacWaveOn_I * max_dac\n",
    "dacWaveOn_I = dacWaveOn_I.astype(data_type)\n",
    "dacWaveOn_Q = dacWaveOn_I\n",
    "# reshapes for IQIQIQIQIQ....\n",
    "arr_tuple = (dacWaveOn_I, dacWaveOn_Q)\n",
    "dacWaveOn_IQ = np.vstack(arr_tuple).reshape((-1,), order='F')\n",
    "offLen = 32\n",
    "dacWaveOff_I = np.ones(offLen)\n",
    "dacWaveOff_I = dacWaveOff_I * half_dac\n",
    "dacWaveOff_I = dacWaveOff_I.astype(data_type)\n",
    "dacWaveOff_Q = dacWaveOff_I\n",
    "# reshapes for IQIQIQIQIQ....\n",
    "arr_tuple = (dacWaveOff_I, dacWaveOff_Q)\n",
    "dacWaveOff_IQ = np.vstack(arr_tuple).reshape((-1,), order='F')\n",
    "################################################################################\n",
    "#AWG channel\n",
    "ch = 1 # everythinf after relates to CH 1\n",
    "cmd = ':INST:CHAN {0}'.format(ch)\n",
    "inst.send_scpi_cmd(cmd)\n",
    "cmd = ':FREQ:RAST {0}'.format(2.5E9) # force to max 16 bit DAC\n",
    "inst.send_scpi_cmd(cmd)\n",
    "inst.send_scpi_cmd(':INIT:CONT OFF')\n",
    "inst.send_scpi_cmd(':TRAC:DEL:ALL')\n",
    "inst.send_scpi_cmd(':TRIG:SOURce:ENAB {}'.format('TRG1'))\n",
    "inst.send_scpi_cmd(':TRIG:SELECT {}'.format('TRG1'))\n",
    "inst.send_scpi_cmd(':TRIG:LTJ ON')\n",
    "inst.send_scpi_cmd(':TRIG:LEV 0.5')\n",
    "inst.send_scpi_cmd(':TRIG:DEL 0E-9')\n",
    "inst.send_scpi_cmd(':TRIG:SLOP POS')\n",
    "inst.send_scpi_cmd(':TRIG:COUP OFF')\n",
    "inst.send_scpi_cmd(':TRIGger:STAT ON')\n",
    "resp = inst.send_scpi_query(':SYST:ERR?')\n",
    "print(\"End of trig Error = \")\n",
    "print(resp)\n",
    "################################################################################\n",
    "# Define segment memory\n",
    "segnum = 1\n",
    "cmd = ':TRAC:DEF {0}, {1}'.format(segnum, len(dacWaveOn_IQ))\n",
    "inst.send_scpi_cmd(cmd)\n",
    "# Select the segment\n",
    "cmd = ':TRAC:SEL {0}'.format(segnum)\n",
    "inst.send_scpi_cmd(cmd)\n",
    "# Increase the timeout before writing binary-data:\n",
    "inst.timeout = 30000\n",
    "# Send the binary-data with *OPC? added to the beginning of its prefix.\n",
    "inst.write_binary_data('*OPC?; :TRAC:DATA', dacWaveOn_IQ)\n",
    "# Set normal timeout\n",
    "inst.timeout = 10000\n",
    "resp = inst.send_scpi_query(':SYST:ERR?')\n",
    "print(\"Trace Download Error = \")\n",
    "print(resp)\n",
    "# Define segment memory\n",
    "segnum = 2\n",
    "cmd = ':TRAC:DEF {0}, {1}'.format(segnum, len(dacWaveOff_IQ))\n",
    "inst.send_scpi_cmd(cmd)\n",
    "# Select the segment\n",
    "cmd = ':TRAC:SEL {0}'.format(segnum)\n",
    "inst.send_scpi_cmd(cmd)\n",
    "# Increase the timeout before writing binary-data:\n",
    "inst.timeout = 30000\n",
    "# Send the binary-data with *OPC? added to the beginning of its prefix.\n",
    "inst.write_binary_data('*OPC?; :TRAC:DATA', dacWaveOff_IQ)\n",
    "# Set normal timeout\n",
    "inst.timeout = 10000\n",
    "resp = inst.send_scpi_query(':SYST:ERR?')\n",
    "print(\"Trace Download Error = \")\n",
    "print(resp)\n",
    "################################################################################\n",
    "cmd = ':SOUR:MODE DUC'\n",
    "resp = inst.send_scpi_cmd(cmd)\n",
    "cmd = ':SOUR:INT X8'\n",
    "resp = inst.send_scpi_cmd(cmd)\n",
    "cmd = ':SOUR:IQM ONE'\n",
    "resp = inst.send_scpi_cmd(cmd)\n",
    "sampleRateDACInt = SampleRateDAC_IQ * 8\n",
    "print('Interpolated Sample Clk Freq {0}'.format(sampleRateDACInt))\n",
    "cmd = ':FREQ:RAST {0}'.format(sampleRateDACInt)\n",
    "resp = inst.send_scpi_cmd(cmd)\n",
    "resp = inst.send_scpi_query(':SYST:ERR?')\n",
    "print(\"IQ Set Error = \")\n",
    "print(resp)\n",
    "cmd = ':SOUR:NCO:CFR1 {0}'.format(10E6)\n",
    "resp = inst.send_scpi_cmd(cmd)\n",
    "print('NCO CF: {0}'.format(10E6))"
   ],
   "id": "35f5287c118283ce",
   "outputs": [
    {
     "name": "stdout",
     "output_type": "stream",
     "text": [
      "On time\n",
      "6.4e-07\n",
      "End of trig Error = \n",
      "0, no error\n",
      "Trace Download Error = \n",
      "0, no error\n",
      "Trace Download Error = \n",
      "0, no error\n",
      "Interpolated Sample Clk Freq 8000000000.0\n",
      "IQ Set Error = \n",
      "0, no error\n",
      "NCO CF: 10000000.0\n"
     ]
    }
   ],
   "execution_count": 3
  },
  {
   "metadata": {
    "ExecuteTime": {
     "end_time": "2024-11-25T04:56:47.081532Z",
     "start_time": "2024-11-25T04:56:45.391299Z"
    }
   },
   "cell_type": "code",
   "source": [
    "ext_trigger_source=np.array([1,1,0,0])\n",
    "carrier_frequency=np.array([10E6,10E6,10E6,10E6])\n",
    "configurate_all_DAC(inst=inst,ext_trigger_source_DAC=ext_trigger_source,carrier_frequency=carrier_frequency)"
   ],
   "id": "46563791a225cca3",
   "outputs": [
    {
     "name": "stdout",
     "output_type": "stream",
     "text": [
      "DAC sample rate 1.0GS/s, SCLK 8.0GS/s\n",
      "DAC minimun segment length 32.0ns, segment granuality 16.0ns\n",
      "DAC configuration successful\n"
     ]
    }
   ],
   "execution_count": 3
  },
  {
   "metadata": {
    "ExecuteTime": {
     "end_time": "2024-11-25T04:56:49.051756Z",
     "start_time": "2024-11-25T04:56:49.047231Z"
    }
   },
   "cell_type": "code",
   "source": "configurate_all_trigger(inst=inst)",
   "id": "d47ea7bb943da319",
   "outputs": [
    {
     "name": "stdout",
     "output_type": "stream",
     "text": [
      "trigger configuration successful\n"
     ]
    }
   ],
   "execution_count": 4
  },
  {
   "metadata": {
    "ExecuteTime": {
     "end_time": "2024-11-25T04:57:00.371634Z",
     "start_time": "2024-11-25T04:57:00.368294Z"
    }
   },
   "cell_type": "code",
   "source": "pulse_1ns=segment(address={'inst':inst,'channel':1,'segment':1})",
   "id": "502cd75df02e605c",
   "outputs": [],
   "execution_count": 5
  },
  {
   "metadata": {
    "ExecuteTime": {
     "end_time": "2024-11-25T04:57:09.841580Z",
     "start_time": "2024-11-25T04:57:09.838149Z"
    }
   },
   "cell_type": "code",
   "source": "pulse_1ns.default_pulse(length=4800,amplitude=0.5,phase=0,type='sine')",
   "id": "c7af6edb0be06241",
   "outputs": [],
   "execution_count": 6
  },
  {
   "metadata": {
    "ExecuteTime": {
     "end_time": "2024-11-25T04:57:13.062934Z",
     "start_time": "2024-11-25T04:57:10.789665Z"
    }
   },
   "cell_type": "code",
   "source": "pulse_1ns.compile_and_download_segment()",
   "id": "f579599b539a4b12",
   "outputs": [
    {
     "name": "stdout",
     "output_type": "stream",
     "text": [
      "Warning: Pulse length shorter than 32, has zero filled 31 numbers\n",
      "channel 1, segment 1 downloaded\n"
     ]
    }
   ],
   "execution_count": 7
  },
  {
   "metadata": {
    "ExecuteTime": {
     "end_time": "2024-11-25T04:57:17.387398Z",
     "start_time": "2024-11-25T04:57:17.376875Z"
    }
   },
   "cell_type": "code",
   "source": "ch1_task=task_table(address={'inst':inst,'channel':1},length=1)",
   "id": "ab873d212967ab3a",
   "outputs": [],
   "execution_count": 8
  },
  {
   "metadata": {
    "ExecuteTime": {
     "end_time": "2024-11-25T04:57:17.882331Z",
     "start_time": "2024-11-25T04:57:17.878554Z"
    }
   },
   "cell_type": "code",
   "source": "ch1_task.new_task(tasknum=1,segnum=1,ext_trigger_ch=1,digitizer_trigger=True,next_task=1)",
   "id": "63363496d688c54d",
   "outputs": [],
   "execution_count": 9
  },
  {
   "metadata": {
    "ExecuteTime": {
     "end_time": "2024-11-25T04:57:19.235161Z",
     "start_time": "2024-11-25T04:57:18.646006Z"
    }
   },
   "cell_type": "code",
   "source": "ch1_task.download_task_table()",
   "id": "3556cee1fe37ffd1",
   "outputs": [
    {
     "name": "stdout",
     "output_type": "stream",
     "text": [
      "channel 1 task table downloaded\n"
     ]
    }
   ],
   "execution_count": 10
  },
  {
   "metadata": {
    "ExecuteTime": {
     "end_time": "2024-11-25T01:39:58.161451Z",
     "start_time": "2024-11-25T01:39:58.151307Z"
    }
   },
   "cell_type": "code",
   "source": "ch1_digitizer=digitizer(address={'inst':inst,'channel':1},task_trigger_channel=1,carrier_frequency=10E6,numframes=1,framelen=4800)",
   "id": "925061818042fb63",
   "outputs": [
    {
     "name": "stdout",
     "output_type": "stream",
     "text": [
      "digitizer sample rate 2.0GS/s, SCLK 0.125GS/s\n",
      "digitizer granularity 384.0ns\n",
      "Channel 1 aquisition frame Length 1.92e-05, frame number 1\n"
     ]
    }
   ],
   "execution_count": 36
  },
  {
   "metadata": {
    "ExecuteTime": {
     "end_time": "2024-11-25T01:40:19.674943Z",
     "start_time": "2024-11-25T01:40:19.664586Z"
    }
   },
   "cell_type": "code",
   "source": "ch1_digitizer.inquire_acquisition()",
   "id": "8a5a197f50579336",
   "outputs": [
    {
     "data": {
      "text/plain": [
       "(0, 0)"
      ]
     },
     "execution_count": 39,
     "metadata": {},
     "output_type": "execute_result"
    }
   ],
   "execution_count": 39
  },
  {
   "metadata": {
    "ExecuteTime": {
     "end_time": "2024-11-25T01:40:21.389453Z",
     "start_time": "2024-11-25T01:40:21.373434Z"
    }
   },
   "cell_type": "code",
   "source": "ch1_digitizer.read_digitizer_data()",
   "id": "8e285e8e899805aa",
   "outputs": [
    {
     "name": "stdout",
     "output_type": "stream",
     "text": [
      "Total read size in bytes: 19200\n",
      "acquired 2400 complex points\n"
     ]
    }
   ],
   "execution_count": 40
  },
  {
   "metadata": {
    "ExecuteTime": {
     "end_time": "2024-11-25T01:40:23.285943Z",
     "start_time": "2024-11-25T01:40:23.136857Z"
    }
   },
   "cell_type": "code",
   "source": "plt.plot(ch1_digitizer.wavI)",
   "id": "ed8379871b629ef1",
   "outputs": [
    {
     "data": {
      "text/plain": [
       "[<matplotlib.lines.Line2D at 0x2a4a9dd13a0>]"
      ]
     },
     "execution_count": 41,
     "metadata": {},
     "output_type": "execute_result"
    },
    {
     "data": {
      "text/plain": [
       "<Figure size 640x480 with 1 Axes>"
      ],
      "image/png": "[encoded data removed]"
     },
     "metadata": {},
     "output_type": "display_data"
    }
   ],
   "execution_count": 41
  },
  {
   "metadata": {
    "ExecuteTime": {
     "end_time": "2024-11-25T01:50:48.795257Z",
     "start_time": "2024-11-25T01:50:47.049920Z"
    }
   },
   "cell_type": "code",
   "source": [
    "numframes, framelen = 3, 4800 # remember multiple of 96\n",
    "totlen = numframes * framelen\n",
    "print('Waveform Length {0}'.format(totlen))\n",
    "wav1 = np.zeros(totlen, dtype=np.uint32)\n",
    "sampleRateADC = SampleRateADC\n",
    "cmd = ':DIG:MODE DUAL'\n",
    "inst.send_scpi_cmd(cmd)\n",
    "print('ADC Clk Freq {0}'.format(sampleRateADC))\n",
    "cmd = ':DIG:FREQ  {0}'.format(sampleRateADC)\n",
    "inst.send_scpi_cmd(cmd)\n",
    "print('Aquisition Length {0}'.format(framelen/2/sampleRateADC*16)) # x16 decimation\n",
    "resp = inst.send_scpi_query(':DIG:FREQ?')\n",
    "print(\"Dig Frequency = \")\n",
    "print(resp)\n",
    "# Enable capturing data from channel 1\n",
    "cmd = ':DIG:CHAN:SEL 1'\n",
    "inst.send_scpi_cmd(cmd)\n",
    "resp = inst.send_scpi_query(':SYST:ERR?')\n",
    "print(\"Dig error = \")\n",
    "print(resp)\n",
    "cmd = ':DIG:DDC:MODE COMP'   # DDC activation to complex i+jq\n",
    "inst.send_scpi_cmd(cmd)\n",
    "cmd = ':DIG:DDC:CFR1 {0}'.format(10E6)\n",
    "inst.send_scpi_cmd(cmd)\n",
    "cmd = ':DIG:DDC:PHAS1 0'\n",
    "inst.send_scpi_cmd(cmd)\n",
    "cmd = ':DIG:DDC:CLKS AWG'\n",
    "rc = inst.send_scpi_cmd(cmd)\n",
    "resp = inst.send_scpi_query(':SYST:ERR?')\n",
    "print(\"Set complex error = \")\n",
    "print(resp)\n",
    "cmd = ':DIG:CHAN:STATE ENAB'\n",
    "inst.send_scpi_cmd(cmd)\n",
    "# trigger from the task list\n",
    "cmd = ':DIG:TRIG:SOURCE TASK1'\n",
    "inst.send_scpi_cmd(cmd)\n",
    "dig_system_delay=560E-9\n",
    "cmd=':INST:CHAN:SEL 1'\n",
    "inst.send_scpi_cmd(cmd)\n",
    "# need to set the delay for individual output channel\n",
    "cmd = ':DIG:TRIG:AWG:TDEL {0}'.format(dig_system_delay)\n",
    "inst.send_scpi_cmd(cmd)\n",
    "cmd = ':DIG:ACQuire:FRAM:DEF {0},{1}'.format(numframes, framelen)\n",
    "inst.send_scpi_cmd(cmd)\n",
    "# Select the frames for the capturing\n",
    "capture_first, capture_count = 1, numframes\n",
    "cmd = ':DIG:ACQuire:FRAM:CAPT {0},{1}'.format(capture_first, capture_count)\n",
    "inst.send_scpi_cmd(cmd)"
   ],
   "id": "5c66a904552e6927",
   "outputs": [
    {
     "name": "stdout",
     "output_type": "stream",
     "text": [
      "Waveform Length 14400\n",
      "ADC Clk Freq 2000000000.0\n",
      "Aquisition Length 1.92e-05\n",
      "Dig Frequency = \n",
      "2000000000.000\n",
      "Dig error = \n",
      "0, no error\n",
      "Set complex error = \n",
      "0, no error\n"
     ]
    },
    {
     "data": {
      "text/plain": [
       "0"
      ]
     },
     "execution_count": 12,
     "metadata": {},
     "output_type": "execute_result"
    }
   ],
   "execution_count": 12
  },
  {
   "metadata": {
    "ExecuteTime": {
     "end_time": "2024-11-25T01:51:32.460105300Z",
     "start_time": "2024-11-25T01:50:51.332164Z"
    }
   },
   "cell_type": "code",
   "source": [
    "import time\n",
    "inst.send_scpi_cmd(':DIG:INIT OFF')\n",
    "\n",
    "inst.send_scpi_cmd(':DIG:INIT ON')\n",
    "\n",
    "cmd = '*TRG'\n",
    "\n",
    "inst.send_scpi_cmd(cmd)\n",
    "\n",
    " \n",
    "\n",
    "frameRx = 0\n",
    "\n",
    "times = 0\n",
    "\n",
    "while (frameRx != 1):\n",
    "\n",
    "    resp = inst.send_scpi_query(':DIG:ACQuire:FRAM:STATus?')\n",
    "\n",
    "    framesParam = resp.split(\",\")\n",
    "\n",
    "    frameRx = int(framesParam[1])\n",
    "\n",
    "    times += 1\n",
    "\n",
    "    time.sleep(0.1)\n",
    "\n",
    "    # if times > 100:\n",
    "\n",
    "    #     break\n",
    "\n",
    "    #     # end time and print time\n",
    "\n",
    "    print(resp)\n",
    "\n",
    "inst.send_scpi_cmd(':DIG:INIT OFF')"
   ],
   "id": "a6361e7f2be6f2d2",
   "outputs": [
    {
     "name": "stdout",
     "output_type": "stream",
     "text": [
      "1,0,0,0\n",
      "1,0,0,0\n",
      "1,0,0,0\n",
      "1,0,0,0\n",
      "1,0,0,0\n",
      "1,0,0,0\n",
      "1,0,0,0\n",
      "1,0,0,0\n",
      "1,0,0,0\n",
      "1,0,0,0\n",
      "1,0,0,0\n",
      "1,0,0,0\n",
      "1,0,0,0\n",
      "1,0,0,0\n",
      "1,0,0,0\n",
      "1,0,0,0\n",
      "1,0,0,0\n",
      "1,0,0,0\n",
      "1,0,0,0\n",
      "1,0,0,0\n",
      "1,0,0,0\n",
      "1,0,0,0\n",
      "1,0,0,0\n",
      "1,0,0,0\n",
      "1,0,0,0\n",
      "1,0,0,0\n",
      "1,0,0,0\n",
      "1,0,0,0\n",
      "1,0,0,0\n",
      "1,0,0,0\n",
      "1,0,0,0\n",
      "1,0,0,0\n",
      "1,0,0,0\n",
      "1,0,0,0\n",
      "1,0,0,0\n",
      "1,0,0,0\n",
      "1,0,0,0\n",
      "1,0,0,0\n",
      "1,0,0,0\n",
      "1,0,0,0\n",
      "1,0,0,0\n",
      "1,0,0,0\n",
      "1,0,0,0\n",
      "1,0,0,0\n",
      "1,0,0,0\n",
      "1,0,0,0\n",
      "1,0,0,0\n",
      "1,0,0,0\n",
      "1,0,0,0\n",
      "1,0,0,0\n",
      "1,0,0,0\n",
      "1,0,0,0\n",
      "1,0,0,0\n",
      "1,0,0,0\n",
      "1,0,0,0\n",
      "1,0,0,0\n",
      "1,0,0,0\n",
      "1,0,0,0\n",
      "1,0,0,0\n",
      "1,0,0,0\n",
      "1,0,0,0\n",
      "1,0,0,0\n",
      "1,0,0,0\n",
      "1,0,0,0\n",
      "1,0,0,0\n",
      "1,0,0,0\n",
      "1,0,0,0\n",
      "1,0,0,0\n",
      "1,0,0,0\n",
      "1,0,0,0\n",
      "1,0,0,0\n",
      "1,0,0,0\n",
      "1,0,0,0\n",
      "1,0,0,0\n",
      "1,0,0,0\n",
      "1,0,0,0\n",
      "1,0,0,0\n",
      "1,0,0,0\n",
      "1,0,0,0\n",
      "1,0,0,0\n",
      "1,0,0,0\n",
      "1,0,0,0\n",
      "1,0,0,0\n",
      "1,0,0,0\n",
      "1,0,0,0\n",
      "1,0,0,0\n",
      "1,0,0,0\n",
      "1,0,0,0\n",
      "1,0,0,0\n",
      "1,0,0,0\n",
      "1,0,0,0\n",
      "1,0,0,0\n",
      "1,0,0,0\n",
      "1,0,0,0\n",
      "1,0,0,0\n",
      "1,0,0,0\n",
      "1,0,0,0\n",
      "1,0,0,0\n",
      "1,0,0,0\n",
      "1,0,0,0\n",
      "1,0,0,0\n",
      "1,0,0,0\n",
      "1,0,0,0\n",
      "1,0,0,0\n",
      "1,0,0,0\n",
      "1,0,0,0\n",
      "1,0,0,0\n",
      "1,0,0,0\n",
      "1,0,0,0\n",
      "1,0,0,0\n",
      "1,0,0,0\n",
      "1,0,0,0\n",
      "1,0,0,0\n",
      "1,0,0,0\n",
      "1,0,0,0\n",
      "1,0,0,0\n",
      "1,0,0,0\n",
      "1,0,0,0\n",
      "1,0,0,0\n",
      "1,0,0,0\n",
      "1,0,0,0\n",
      "1,0,0,0\n",
      "1,0,0,0\n",
      "1,0,0,0\n",
      "1,0,0,0\n",
      "1,0,0,0\n",
      "1,0,0,0\n",
      "1,0,0,0\n",
      "1,0,0,0\n",
      "1,0,0,0\n",
      "1,0,0,0\n",
      "1,0,0,0\n",
      "1,0,0,0\n",
      "1,0,0,0\n",
      "1,0,0,0\n",
      "1,0,0,0\n",
      "1,0,0,0\n",
      "1,0,0,0\n",
      "1,0,0,0\n",
      "1,0,0,0\n",
      "1,0,0,0\n",
      "1,0,0,0\n",
      "1,0,0,0\n",
      "1,0,0,0\n",
      "1,0,0,0\n",
      "1,0,0,0\n",
      "1,0,0,0\n",
      "1,0,0,0\n",
      "1,0,0,0\n",
      "1,0,0,0\n",
      "1,0,0,0\n",
      "1,0,0,0\n",
      "1,0,0,0\n",
      "1,0,0,0\n",
      "1,0,0,0\n",
      "1,0,0,0\n",
      "1,0,0,0\n",
      "1,0,0,0\n",
      "1,0,0,0\n",
      "1,0,0,0\n",
      "1,0,0,0\n",
      "1,0,0,0\n",
      "1,0,0,0\n",
      "1,0,0,0\n",
      "1,0,0,0\n",
      "1,0,0,0\n",
      "1,0,0,0\n",
      "1,0,0,0\n",
      "1,0,0,0\n",
      "1,0,0,0\n",
      "1,0,0,0\n",
      "1,0,0,0\n",
      "1,0,0,0\n",
      "1,0,0,0\n",
      "1,0,0,0\n",
      "1,0,0,0\n",
      "1,0,0,0\n",
      "1,0,0,0\n",
      "1,0,0,0\n",
      "1,0,0,0\n",
      "1,0,0,0\n",
      "1,0,0,0\n",
      "1,0,0,0\n",
      "1,0,0,0\n",
      "1,0,0,0\n",
      "1,0,0,0\n",
      "1,0,0,0\n",
      "1,0,0,0\n",
      "1,0,0,0\n",
      "1,0,0,0\n",
      "1,0,0,0\n",
      "1,0,0,0\n",
      "1,0,0,0\n",
      "1,0,0,0\n",
      "1,0,0,0\n",
      "1,0,0,0\n",
      "1,0,0,0\n",
      "1,0,0,0\n",
      "1,0,0,0\n",
      "1,0,0,0\n",
      "1,0,0,0\n",
      "1,0,0,0\n",
      "1,0,0,0\n",
      "1,0,0,0\n",
      "1,0,0,0\n",
      "1,0,0,0\n",
      "1,0,0,0\n",
      "1,0,0,0\n",
      "1,0,0,0\n",
      "1,0,0,0\n",
      "1,0,0,0\n",
      "1,0,0,0\n",
      "1,0,0,0\n",
      "1,0,0,0\n",
      "1,0,0,0\n",
      "1,0,0,0\n",
      "1,0,0,0\n",
      "1,0,0,0\n",
      "1,0,0,0\n",
      "1,0,0,0\n",
      "1,0,0,0\n",
      "1,0,0,0\n",
      "1,0,0,0\n",
      "1,0,0,0\n",
      "1,0,0,0\n",
      "1,0,0,0\n",
      "1,0,0,0\n",
      "1,0,0,0\n",
      "1,0,0,0\n",
      "1,0,0,0\n",
      "1,0,0,0\n",
      "1,0,0,0\n",
      "1,0,0,0\n",
      "1,0,0,0\n",
      "1,0,0,0\n",
      "1,0,0,0\n",
      "1,0,0,0\n",
      "1,0,0,0\n",
      "1,0,0,0\n",
      "1,0,0,0\n",
      "1,0,0,0\n",
      "1,0,0,0\n",
      "1,0,0,0\n",
      "1,0,0,0\n",
      "1,0,0,0\n",
      "1,0,0,0\n",
      "1,0,0,0\n",
      "1,0,0,0\n",
      "1,0,0,0\n",
      "1,0,0,0\n",
      "1,0,0,0\n",
      "1,0,0,0\n",
      "1,0,0,0\n",
      "1,0,0,0\n",
      "1,0,0,0\n",
      "1,0,0,0\n",
      "1,0,0,0\n",
      "1,0,0,0\n",
      "1,0,0,0\n",
      "1,0,0,0\n",
      "1,0,0,0\n",
      "1,0,0,0\n",
      "1,0,0,0\n",
      "1,0,0,0\n",
      "1,0,0,0\n",
      "1,0,0,0\n",
      "1,0,0,0\n",
      "1,0,0,0\n",
      "1,0,0,0\n",
      "1,0,0,0\n",
      "1,0,0,0\n",
      "1,0,0,0\n",
      "1,0,0,0\n",
      "1,0,0,0\n",
      "1,0,0,0\n",
      "1,0,0,0\n",
      "1,0,0,0\n",
      "1,0,0,0\n",
      "1,0,0,0\n",
      "1,0,0,0\n",
      "1,0,0,0\n",
      "1,0,0,0\n",
      "1,0,0,0\n",
      "1,0,0,0\n",
      "1,0,0,0\n",
      "1,0,0,0\n",
      "1,0,0,0\n",
      "1,0,0,0\n",
      "1,0,0,0\n",
      "1,0,0,0\n",
      "1,0,0,0\n",
      "1,0,0,0\n",
      "1,0,0,0\n",
      "1,0,0,0\n",
      "1,0,0,0\n",
      "1,0,0,0\n",
      "1,0,0,0\n",
      "1,0,0,0\n",
      "1,0,0,0\n",
      "1,0,0,0\n",
      "1,0,0,0\n",
      "1,0,0,0\n",
      "1,0,0,0\n",
      "1,0,0,0\n",
      "1,0,0,0\n",
      "1,0,0,0\n",
      "1,0,0,0\n",
      "1,0,0,0\n",
      "1,0,0,0\n",
      "1,0,0,0\n",
      "1,0,0,0\n",
      "1,0,0,0\n",
      "1,0,0,0\n",
      "1,0,0,0\n",
      "1,0,0,0\n",
      "1,0,0,0\n",
      "1,0,0,0\n",
      "1,0,0,0\n",
      "1,0,0,0\n",
      "1,0,0,0\n",
      "1,0,0,0\n",
      "1,0,0,0\n",
      "1,0,0,0\n",
      "1,0,0,0\n",
      "1,0,0,0\n",
      "1,0,0,0\n",
      "1,0,0,0\n",
      "1,0,0,0\n",
      "1,0,0,0\n",
      "1,0,0,0\n",
      "1,0,0,0\n",
      "1,0,0,0\n",
      "1,0,0,0\n",
      "1,0,0,0\n",
      "1,0,0,0\n",
      "1,0,0,0\n",
      "1,0,0,0\n",
      "1,0,0,0\n",
      "1,0,0,0\n",
      "1,0,0,0\n",
      "1,0,0,0\n",
      "1,0,0,0\n",
      "1,0,0,0\n",
      "1,0,0,0\n",
      "1,0,0,0\n",
      "1,0,0,0\n",
      "1,0,0,0\n",
      "1,0,0,0\n",
      "1,0,0,0\n",
      "1,0,0,0\n",
      "1,0,0,0\n",
      "1,0,0,0\n",
      "1,0,0,0\n",
      "1,0,0,0\n",
      "1,0,0,0\n",
      "1,0,0,0\n",
      "1,0,0,0\n",
      "1,0,0,0\n",
      "1,0,0,0\n",
      "1,0,0,0\n",
      "1,0,0,0\n",
      "1,0,0,0\n",
      "1,0,0,0\n",
      "1,0,0,0\n",
      "1,0,0,0\n",
      "1,0,0,0\n",
      "1,0,0,0\n",
      "1,0,0,0\n",
      "1,0,0,0\n",
      "1,0,0,0\n",
      "1,0,0,0\n",
      "1,0,0,0\n",
      "1,0,0,0\n",
      "1,0,0,0\n",
      "1,0,0,0\n",
      "1,0,0,0\n",
      "1,0,0,0\n",
      "1,0,0,0\n",
      "1,0,0,0\n",
      "1,0,0,0\n",
      "1,0,0,0\n",
      "1,0,0,0\n",
      "1,0,0,0\n",
      "1,0,0,0\n",
      "1,0,0,0\n",
      "1,0,0,0\n",
      "1,0,0,0\n",
      "1,0,0,0\n",
      "1,0,0,0\n",
      "1,0,0,0\n",
      "1,0,0,0\n",
      "1,0,0,0\n",
      "1,0,0,0\n",
      "1,0,0,0\n",
      "1,0,0,0\n",
      "1,0,0,0\n",
      "1,0,0,0\n",
      "1,0,0,0\n",
      "1,0,0,0\n",
      "1,0,0,0\n",
      "1,0,0,0\n",
      "1,0,0,0\n",
      "1,0,0,0\n",
      "1,0,0,0\n",
      "1,0,0,0\n",
      "1,0,0,0\n",
      "1,0,0,0\n"
     ]
    },
    {
     "ename": "KeyboardInterrupt",
     "evalue": "",
     "output_type": "error",
     "traceback": [
      "\u001B[1;31m---------------------------------------------------------------------------\u001B[0m",
      "\u001B[1;31mKeyboardInterrupt\u001B[0m                         Traceback (most recent call last)",
      "Cell \u001B[1;32mIn[13], line 26\u001B[0m\n\u001B[0;32m     22\u001B[0m frameRx \u001B[38;5;241m=\u001B[39m \u001B[38;5;28mint\u001B[39m(framesParam[\u001B[38;5;241m1\u001B[39m])\n\u001B[0;32m     24\u001B[0m times \u001B[38;5;241m+\u001B[39m\u001B[38;5;241m=\u001B[39m \u001B[38;5;241m1\u001B[39m\n\u001B[1;32m---> 26\u001B[0m time\u001B[38;5;241m.\u001B[39msleep(\u001B[38;5;241m0.1\u001B[39m)\n\u001B[0;32m     28\u001B[0m \u001B[38;5;66;03m# if times > 100:\u001B[39;00m\n\u001B[0;32m     29\u001B[0m \n\u001B[0;32m     30\u001B[0m \u001B[38;5;66;03m#     break\u001B[39;00m\n\u001B[0;32m     31\u001B[0m \n\u001B[0;32m     32\u001B[0m \u001B[38;5;66;03m#     # end time and print time\u001B[39;00m\n\u001B[0;32m     34\u001B[0m \u001B[38;5;28mprint\u001B[39m(resp)\n",
      "\u001B[1;31mKeyboardInterrupt\u001B[0m: "
     ]
    }
   ],
   "execution_count": 13
  },
  {
   "metadata": {},
   "cell_type": "code",
   "outputs": [],
   "execution_count": null,
   "source": "",
   "id": "4e9b048124aed4fd"
  }
 ],
 "metadata": {
  "kernelspec": {
   "display_name": "Python 3",
   "language": "python",
   "name": "python3"
  },
  "language_info": {
   "codemirror_mode": {
    "name": "ipython",
    "version": 2
   },
   "file_extension": ".py",
   "mimetype": "text/x-python",
   "name": "python",
   "nbconvert_exporter": "python",
   "pygments_lexer": "ipython2",
   "version": "2.7.6"
  }
 },
 "nbformat": 4,
 "nbformat_minor": 5
}
