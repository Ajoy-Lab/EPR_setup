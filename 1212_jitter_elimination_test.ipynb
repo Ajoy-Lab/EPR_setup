{
 "cells": [
  {
   "cell_type": "code",
   "id": "initial_id",
   "metadata": {
    "collapsed": true,
    "ExecuteTime": {
     "end_time": "2024-12-24T05:34:53.222251Z",
     "start_time": "2024-12-24T05:34:51.366661Z"
    }
   },
   "source": [
    "import numpy as np\n",
    "import matplotlib.pyplot as plt\n",
    "from astropy.utils.metadata.utils import dtype\n",
    "from chardet import detect\n",
    "from dask.array import argmax\n",
    "from numba import float64\n",
    "from scipy.cluster.hierarchy import linkage, fcluster\n",
    "from scipy.spatial.distance import pdist\n",
    "\n",
    "from AWG_function import *"
   ],
   "outputs": [],
   "execution_count": 1
  },
  {
   "metadata": {
    "ExecuteTime": {
     "end_time": "2024-12-24T05:35:00.685969Z",
     "start_time": "2024-12-24T05:34:53.988570Z"
    }
   },
   "cell_type": "code",
   "source": "inst=connect_PXI()",
   "id": "8e0fd112d079ed81",
   "outputs": [
    {
     "name": "stdout",
     "output_type": "stream",
     "text": [
      "Load TEProteus.dll from : C:\\Windows\\system32\\TEProteus.dll\n",
      "connected to: Tabor Electronics,P9484M,000002243278,1.237.0 --slot#: 8,\n"
     ]
    }
   ],
   "execution_count": 2
  },
  {
   "metadata": {
    "ExecuteTime": {
     "end_time": "2024-12-24T05:35:01.845067Z",
     "start_time": "2024-12-24T05:35:01.836927Z"
    }
   },
   "cell_type": "code",
   "source": [
    "# configurate the detected pulse\n",
    "detect_pulse_freq=30E6\n",
    "detect_pulse_length=160\n",
    "detect_pulse_length_s=detect_pulse_length/SampleRateDAC_IQ\n",
    "t_acquire_pulse=np.linspace(0,detect_pulse_length_s,detect_pulse_length,endpoint=False)\n",
    "\n",
    "detect_I=np.cos(2*np.pi*detect_pulse_freq*t_acquire_pulse)/2\n",
    "detect_Q=np.sin(2*np.pi*detect_pulse_freq*t_acquire_pulse)/2"
   ],
   "id": "ba120dde5cca9306",
   "outputs": [],
   "execution_count": 3
  },
  {
   "metadata": {
    "ExecuteTime": {
     "end_time": "2024-12-24T05:35:06.822230Z",
     "start_time": "2024-12-24T05:35:02.840191Z"
    }
   },
   "cell_type": "code",
   "source": [
    "carrier_frequency=100E6\n",
    "configurate_one_DAC(inst=inst,channel=1,carrier_frequency=carrier_frequency,trigger_channel=1)\n",
    "\n",
    "empty_1 = segment(inst=inst, segnum=2)\n",
    "empty_1.default_pulse(length=640, amplitude=0.5, phase=0, type='empty')\n",
    "empty_1.compile_and_download_segment()\n",
    "\n",
    "detect_pulse=segment(inst=inst,segnum=1)\n",
    "detect_pulse.custom_pulse(detect_I,detect_Q)\n",
    "detect_pulse.compile_and_download_segment()\n",
    "\n",
    "empty_2 = segment(inst=inst, segnum=2)\n",
    "empty_2.default_pulse(length=480, amplitude=0.5, phase=0, type='empty')\n",
    "empty_2.compile_and_download_segment()\n",
    "\n",
    "ch1_task=task_table(inst=inst,length=3)\n",
    "ch1_task.new_task(tasknum=1,segnum=1,ext_trigger_ch=1,digitizer_trigger=False,next_task=2)\n",
    "ch1_task.new_task(tasknum=2,segnum=2,ext_trigger_ch=0,digitizer_trigger=True,next_task=3)\n",
    "ch1_task.new_task(tasknum=3,segnum=1,ext_trigger_ch=0,digitizer_trigger=False,next_task=1)\n",
    "ch1_task.download_task_table()"
   ],
   "id": "46563791a225cca3",
   "outputs": [
    {
     "name": "stdout",
     "output_type": "stream",
     "text": [
      "DAC sample rate 1.00GS/s, SCLK 8.00GS/s\n",
      "DAC minimum segment length 32.0ns, segment granularity 16.0ns\n",
      "DAC configuration successful\n",
      "channel 1, segment 2 downloaded, length 640.0ns\n",
      "channel 1, segment 1 downloaded, length 160.0ns\n",
      "channel 1, segment 2 downloaded, length 480.0ns\n",
      "channel 1 task table downloaded\n"
     ]
    }
   ],
   "execution_count": 4
  },
  {
   "metadata": {
    "ExecuteTime": {
     "end_time": "2024-12-24T05:35:08.663574Z",
     "start_time": "2024-12-24T05:35:08.654840Z"
    }
   },
   "cell_type": "code",
   "source": [
    "# configurate acquisition pulse\n",
    "acq_frame_len=96\n",
    "acq_frame_len_s=96/SampleRateADC_IQ\n",
    "acquire_pulse_freq=30E6\n",
    "acquire_pulse_length=96\n",
    "acquire_pulse_length_s=acquire_pulse_length/SampleRateDAC_IQ\n",
    "t_acquire_pulse=np.linspace(0,acquire_pulse_length_s,acquire_pulse_length)\n",
    "\n",
    "acquire_I=np.cos(2*np.pi*acquire_pulse_freq*t_acquire_pulse)/2\n",
    "acquire_Q=np.sin(2*np.pi*acquire_pulse_freq*t_acquire_pulse)/2"
   ],
   "id": "4479edff9ed06965",
   "outputs": [],
   "execution_count": 5
  },
  {
   "metadata": {
    "ExecuteTime": {
     "end_time": "2024-12-24T05:35:12.478199Z",
     "start_time": "2024-12-24T05:35:09.587333Z"
    }
   },
   "cell_type": "code",
   "source": [
    "carrier_frequency=100E6\n",
    "configurate_one_DAC(inst=inst,channel=3,carrier_frequency=carrier_frequency,trigger_channel=1)\n",
    "\n",
    "empty = segment(inst=inst, segnum=1)\n",
    "empty.default_pulse(length=640, amplitude=0.5, phase=0, type='empty')\n",
    "empty.compile_and_download_segment()\n",
    "\n",
    "detection_pulse=segment(inst=inst,segnum=2)\n",
    "detection_pulse.custom_pulse(acquire_I,acquire_Q)\n",
    "detection_pulse.compile_and_download_segment()\n",
    "\n",
    "ch3_task=task_table(inst=inst,length=2)\n",
    "ch3_task.new_task(tasknum=1,segnum=1,ext_trigger_ch=1,digitizer_trigger=False,next_task=2)\n",
    "ch3_task.new_task(tasknum=2,segnum=2,ext_trigger_ch=0,digitizer_trigger=True,next_task=1)\n",
    "ch3_task.download_task_table()"
   ],
   "id": "d47ea7bb943da319",
   "outputs": [
    {
     "name": "stdout",
     "output_type": "stream",
     "text": [
      "DAC sample rate 1.00GS/s, SCLK 8.00GS/s\n",
      "DAC minimum segment length 32.0ns, segment granularity 16.0ns\n",
      "DAC configuration successful\n",
      "channel 3, segment 1 downloaded, length 640.0ns\n",
      "channel 3, segment 2 downloaded, length 96.0ns\n",
      "channel 3 task table downloaded\n"
     ]
    }
   ],
   "execution_count": 6
  },
  {
   "metadata": {
    "ExecuteTime": {
     "end_time": "2024-12-24T05:35:15.845128Z",
     "start_time": "2024-12-24T05:35:13.558109Z"
    }
   },
   "cell_type": "code",
   "source": [
    "ch1_digitizer=digitizer(address={'inst':inst,'channel':1},task_trigger_channel=1,carrier_frequency=carrier_frequency,numframes=100,framelen_IQ=acq_frame_len)\n",
    "ch3_digitizer=digitizer(address={'inst':inst,'channel':2},task_trigger_channel=3,carrier_frequency=carrier_frequency,numframes=100,framelen_IQ=acq_frame_len)"
   ],
   "id": "925061818042fb63",
   "outputs": [
    {
     "name": "stdout",
     "output_type": "stream",
     "text": [
      "digitizer sample rate 0.12GS/s, SCLK 2.00GS/s\n",
      "digitizer granularity 384.0ns\n",
      "Channel 1 acquisition frame Length 768.0 ns, frame number 100\n",
      "digitizer sample rate 0.12GS/s, SCLK 2.00GS/s\n",
      "digitizer granularity 384.0ns\n",
      "Channel 2 acquisition frame Length 768.0 ns, frame number 100\n"
     ]
    }
   ],
   "execution_count": 7
  },
  {
   "metadata": {
    "ExecuteTime": {
     "end_time": "2024-12-24T05:35:42.485172Z",
     "start_time": "2024-12-24T05:35:42.477078Z"
    }
   },
   "cell_type": "code",
   "source": [
    "print(ch1_digitizer.inquire_acquisition())\n",
    "print(ch3_digitizer.inquire_acquisition())"
   ],
   "id": "8a5a197f50579336",
   "outputs": [
    {
     "name": "stdout",
     "output_type": "stream",
     "text": [
      "(1, 100)\n",
      "(1, 100)\n"
     ]
    }
   ],
   "execution_count": 9
  },
  {
   "metadata": {
    "ExecuteTime": {
     "end_time": "2024-12-24T05:35:44.184318Z",
     "start_time": "2024-12-24T05:35:44.166605Z"
    }
   },
   "cell_type": "code",
   "source": [
    "ch1_digitizer.read_digitizer_data()\n",
    "ch3_digitizer.read_digitizer_data()"
   ],
   "id": "8e285e8e899805aa",
   "outputs": [
    {
     "name": "stdout",
     "output_type": "stream",
     "text": [
      "Total read size in bytes: 76800\n",
      "acquired 9600 complex points, 76800.0ns\n",
      "Total read size in bytes: 76800\n",
      "acquired 9600 complex points, 76800.0ns\n"
     ]
    }
   ],
   "execution_count": 10
  },
  {
   "metadata": {
    "ExecuteTime": {
     "end_time": "2024-12-24T05:35:46.268422Z",
     "start_time": "2024-12-24T05:35:46.255879Z"
    }
   },
   "cell_type": "code",
   "source": "data=EPR_data(ch1_digitizer,ch3_digitizer,10)",
   "id": "67d4e9749f5db99a",
   "outputs": [
    {
     "name": "stdout",
     "output_type": "stream",
     "text": [
      "recognize 10 experiments, 10 repetitions, length 768.0ns, 96 samples\n"
     ]
    }
   ],
   "execution_count": 11
  },
  {
   "metadata": {
    "ExecuteTime": {
     "end_time": "2024-12-24T05:35:51.957864Z",
     "start_time": "2024-12-24T05:35:47.265285Z"
    }
   },
   "cell_type": "code",
   "source": "data.interpolation()",
   "id": "42c93cdf71197972",
   "outputs": [
    {
     "name": "stdout",
     "output_type": "stream",
     "text": [
      "interpolation completed, signal length 1536\n"
     ]
    }
   ],
   "execution_count": 12
  },
  {
   "metadata": {
    "ExecuteTime": {
     "end_time": "2024-12-24T05:35:55.565610Z",
     "start_time": "2024-12-24T05:35:55.506467Z"
    }
   },
   "cell_type": "code",
   "source": "data.align()",
   "id": "afb1c1136bcae814",
   "outputs": [
    {
     "data": {
      "text/plain": [
       "array([  0,   0,   0, -28, -28, -28,  -2,  -2, -30, -30, -30,  -4,  -4,\n",
       "        -4, -32, -32,  -6,  -6,  -6, -34, -34, -34,  -8,  -8, -36, -36,\n",
       "       -36, -10, -10, -10, -38, -38, -12, -12, -12, -40, -40, -40,   2,\n",
       "         2, -26, -26, -26,   0,   0, -28, -28, -28,  -2,  -2,  -2, -30,\n",
       "       -30,  -4,  -4,  -4, -32, -32, -32,  -6,  -6,  -6, -34, -34,  -8,\n",
       "        -8,  -8, -36, -36, -10, -10, -10, -38, -38, -38, -12, -12, -40,\n",
       "       -40, -40,   2,   2, -26, -26, -26,   0,   0,   0, -28, -28,  -2,\n",
       "        -2,  -2, -30, -30, -30,  -4,  -4, -32, -32])"
      ]
     },
     "execution_count": 13,
     "metadata": {},
     "output_type": "execute_result"
    }
   ],
   "execution_count": 13
  },
  {
   "metadata": {
    "ExecuteTime": {
     "end_time": "2024-12-24T05:35:58.921561Z",
     "start_time": "2024-12-24T05:35:58.899574Z"
    }
   },
   "cell_type": "code",
   "source": "data.fix_error(3)",
   "id": "67ffe65ff207a77d",
   "outputs": [
    {
     "data": {
      "text/plain": [
       "[array([0, 1, 2], dtype=int64),\n",
       " array([1, 2, 3], dtype=int64),\n",
       " array([2, 3, 7], dtype=int64),\n",
       " array([2, 3, 4], dtype=int64),\n",
       " array([3, 4, 8], dtype=int64),\n",
       " array([0, 3, 4], dtype=int64),\n",
       " array([0, 1, 4], dtype=int64),\n",
       " array([0, 1, 5], dtype=int64),\n",
       " array([0, 1, 5], dtype=int64),\n",
       " array([0, 1, 2], dtype=int64)]"
      ]
     },
     "execution_count": 14,
     "metadata": {},
     "output_type": "execute_result"
    }
   ],
   "execution_count": 14
  },
  {
   "metadata": {
    "ExecuteTime": {
     "end_time": "2024-12-24T05:36:01.597333Z",
     "start_time": "2024-12-24T05:36:01.392803Z"
    }
   },
   "cell_type": "code",
   "source": [
    "for i in range(10):\n",
    "    plt.plot(np.real(data.average[i])[900:1100])"
   ],
   "id": "619befbcef2c9c42",
   "outputs": [
    {
     "data": {
      "text/plain": [
       "<Figure size 640x480 with 1 Axes>"
      ],
      "image/png": "[encoded data removed]"
     },
     "metadata": {},
     "output_type": "display_data"
    }
   ],
   "execution_count": 15
  },
  {
   "metadata": {},
   "cell_type": "code",
   "outputs": [],
   "execution_count": null,
   "source": "",
   "id": "ae21aa97a3a8f589"
  }
 ],
 "metadata": {
  "kernelspec": {
   "display_name": "Python 3",
   "language": "python",
   "name": "python3"
  },
  "language_info": {
   "codemirror_mode": {
    "name": "ipython",
    "version": 2
   },
   "file_extension": ".py",
   "mimetype": "text/x-python",
   "name": "python",
   "nbconvert_exporter": "python",
   "pygments_lexer": "ipython2",
   "version": "2.7.6"
  }
 },
 "nbformat": 4,
 "nbformat_minor": 5
}
