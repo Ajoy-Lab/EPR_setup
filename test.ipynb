{
 "cells": [
  {
   "cell_type": "code",
   "id": "initial_id",
   "metadata": {
    "collapsed": true,
    "ExecuteTime": {
     "end_time": "2024-10-23T21:58:43.662819Z",
     "start_time": "2024-10-23T21:58:43.508072Z"
    }
   },
   "source": "from AWG_function.ZCW_function import *\n",
   "outputs": [],
   "execution_count": 1
  },
  {
   "metadata": {
    "ExecuteTime": {
     "end_time": "2024-10-23T21:58:52.408053Z",
     "start_time": "2024-10-23T21:58:45.204238Z"
    }
   },
   "cell_type": "code",
   "source": [
    "inst=connect_PXI()\n",
    "configurate_DAC(inst,[1E6,1E6,1E6,1E6])"
   ],
   "id": "296acb9c12935ff6",
   "outputs": [
    {
     "name": "stdout",
     "output_type": "stream",
     "text": [
      "Load TEProteus.dll from : C:\\Windows\\system32\\TEProteus.dll\n",
      "<class 'AWG_function.teproteus.TEProteusInst'>\n",
      "connected to: Tabor Electronics,P9484M,000002243278,1.237.0 --slot#: 8,\n",
      "1\n"
     ]
    }
   ],
   "execution_count": 2
  },
  {
   "metadata": {
    "ExecuteTime": {
     "end_time": "2024-10-23T21:54:06.214449Z",
     "start_time": "2024-10-23T21:54:06.202950Z"
    }
   },
   "cell_type": "code",
   "source": "print(np.arange(4))",
   "id": "60800141b206c489",
   "outputs": [
    {
     "name": "stdout",
     "output_type": "stream",
     "text": [
      "[0 1 2 3]\n"
     ]
    }
   ],
   "execution_count": 7
  },
  {
   "metadata": {
    "ExecuteTime": {
     "end_time": "2024-11-23T03:20:37.813314Z",
     "start_time": "2024-11-23T03:20:37.696696Z"
    }
   },
   "cell_type": "code",
   "source": "import numpy as np",
   "id": "a3d022d20f241fb5",
   "outputs": [],
   "execution_count": 1
  },
  {
   "metadata": {
    "ExecuteTime": {
     "end_time": "2024-11-23T03:21:09.971572Z",
     "start_time": "2024-11-23T03:21:09.962152Z"
    }
   },
   "cell_type": "code",
   "source": [
    "array=[0,1,5,5]\n",
    "assert np.all(np.isin(array, [0, 1, 2]))"
   ],
   "id": "255f24365107d029",
   "outputs": [],
   "execution_count": 8
  },
  {
   "metadata": {
    "ExecuteTime": {
     "end_time": "2024-11-23T03:21:06.019752Z",
     "start_time": "2024-11-23T03:21:06.012956Z"
    }
   },
   "cell_type": "code",
   "source": "print(a)",
   "id": "27b903e88dd27150",
   "outputs": [
    {
     "name": "stdout",
     "output_type": "stream",
     "text": [
      "False\n"
     ]
    }
   ],
   "execution_count": 7
  },
  {
   "metadata": {
    "ExecuteTime": {
     "end_time": "2024-11-24T19:38:25.878667Z",
     "start_time": "2024-11-24T19:38:25.872316Z"
    }
   },
   "cell_type": "code",
   "source": "a=None",
   "id": "a79be03acec33aa4",
   "outputs": [],
   "execution_count": 5
  },
  {
   "metadata": {
    "ExecuteTime": {
     "end_time": "2024-11-24T19:38:26.596733Z",
     "start_time": "2024-11-24T19:38:26.589190Z"
    }
   },
   "cell_type": "code",
   "source": "print(type(a))",
   "id": "951c0699050ecf53",
   "outputs": [
    {
     "name": "stdout",
     "output_type": "stream",
     "text": [
      "<class 'NoneType'>\n"
     ]
    }
   ],
   "execution_count": 6
  },
  {
   "metadata": {
    "jupyter": {
     "is_executing": true
    }
   },
   "cell_type": "code",
   "source": "65536/8",
   "id": "5f89bff192ea134d",
   "outputs": [],
   "execution_count": null
  },
  {
   "metadata": {},
   "cell_type": "code",
   "outputs": [],
   "execution_count": null,
   "source": "",
   "id": "9a46d7e73e8e3a20"
  }
 ],
 "metadata": {
  "kernelspec": {
   "display_name": "Python 3",
   "language": "python",
   "name": "python3"
  },
  "language_info": {
   "codemirror_mode": {
    "name": "ipython",
    "version": 2
   },
   "file_extension": ".py",
   "mimetype": "text/x-python",
   "name": "python",
   "nbconvert_exporter": "python",
   "pygments_lexer": "ipython2",
   "version": "2.7.6"
  }
 },
 "nbformat": 4,
 "nbformat_minor": 5
}
