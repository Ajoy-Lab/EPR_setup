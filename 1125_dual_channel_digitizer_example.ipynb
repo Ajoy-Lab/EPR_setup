{
 "cells": [
  {
   "cell_type": "code",
   "id": "initial_id",
   "metadata": {
    "collapsed": true,
    "ExecuteTime": {
     "end_time": "2024-11-26T02:07:16.898178Z",
     "start_time": "2024-11-26T02:07:16.888720Z"
    }
   },
   "source": [
    "import numpy as np\n",
    "import matplotlib.pyplot as plt\n",
    "from AWG_function import *"
   ],
   "outputs": [],
   "execution_count": 10
  },
  {
   "metadata": {
    "ExecuteTime": {
     "end_time": "2024-11-26T02:07:23.891446Z",
     "start_time": "2024-11-26T02:07:17.244471Z"
    }
   },
   "cell_type": "code",
   "source": "inst=connect_PXI()",
   "id": "8e0fd112d079ed81",
   "outputs": [
    {
     "name": "stdout",
     "output_type": "stream",
     "text": [
      "Load TEProteus.dll from : C:\\Windows\\system32\\TEProteus.dll\n",
      "connected to: slot#: 8,\n"
     ]
    }
   ],
   "execution_count": 11
  },
  {
   "metadata": {
    "ExecuteTime": {
     "end_time": "2024-11-26T02:07:27.879678Z",
     "start_time": "2024-11-26T02:07:23.901443Z"
    }
   },
   "cell_type": "code",
   "source": [
    "carrier_frequency=100E6\n",
    "configurate_one_DAC(inst=inst,channel=1,carrier_frequency=carrier_frequency,trigger_channel=1)\n",
    "pulse_1ns=segment(inst=inst,segnum=1)\n",
    "pulse_1ns.default_pulse(length=640,amplitude=0.5,phase=0,type='sine')\n",
    "pulse_1ns.compile_and_download_segment()\n",
    "\n",
    "empty = segment(inst=inst, segnum=2)\n",
    "empty.default_pulse(length=480, amplitude=0.5, phase=0, type='empty')\n",
    "empty.compile_and_download_segment()\n",
    "\n",
    "ch1_task=task_table(inst=inst,length=3)\n",
    "ch1_task.new_task(tasknum=1,segnum=1,ext_trigger_ch=1,digitizer_trigger=False,next_task=2)\n",
    "ch1_task.new_task(tasknum=2,segnum=2,ext_trigger_ch=0,digitizer_trigger=True,next_task=3)\n",
    "ch1_task.new_task(tasknum=3,segnum=1,ext_trigger_ch=0,digitizer_trigger=False,next_task=1)\n",
    "ch1_task.download_task_table()"
   ],
   "id": "46563791a225cca3",
   "outputs": [
    {
     "name": "stdout",
     "output_type": "stream",
     "text": [
      "DAC sample rate 1.00GS/s, SCLK 8.00GS/s\n",
      "DAC minimun segment length 32.0ns, segment granuality 16.0ns\n",
      "DAC configuration successful\n",
      "channel 1, segment 1 downloaded, length 640.0ns\n",
      "channel 1, segment 2 downloaded, length 480.0ns\n",
      "channel 1 task table downloaded\n"
     ]
    }
   ],
   "execution_count": 12
  },
  {
   "metadata": {
    "ExecuteTime": {
     "end_time": "2024-11-26T02:07:30.737224Z",
     "start_time": "2024-11-26T02:07:27.886029Z"
    }
   },
   "cell_type": "code",
   "source": [
    "carrier_frequency=100E6\n",
    "configurate_one_DAC(inst=inst,channel=3,carrier_frequency=carrier_frequency,trigger_channel=1)\n",
    "pulse_1ns=segment(inst=inst,segnum=1)\n",
    "pulse_1ns.default_pulse(length=640,amplitude=0.5,phase=0,type='sine')\n",
    "pulse_1ns.compile_and_download_segment()\n",
    "\n",
    "empty = segment(inst=inst, segnum=2)\n",
    "empty.default_pulse(length=480, amplitude=0.5, phase=0, type='empty')\n",
    "empty.compile_and_download_segment()\n",
    "\n",
    "ch1_task=task_table(inst=inst,length=3)\n",
    "ch1_task.new_task(tasknum=1,segnum=1,ext_trigger_ch=1,digitizer_trigger=False,next_task=2)\n",
    "ch1_task.new_task(tasknum=2,segnum=2,ext_trigger_ch=0,digitizer_trigger=True,next_task=3)\n",
    "ch1_task.new_task(tasknum=3,segnum=1,ext_trigger_ch=0,digitizer_trigger=False,next_task=1)\n",
    "ch1_task.download_task_table()"
   ],
   "id": "d47ea7bb943da319",
   "outputs": [
    {
     "name": "stdout",
     "output_type": "stream",
     "text": [
      "DAC sample rate 1.00GS/s, SCLK 8.00GS/s\n",
      "DAC minimun segment length 32.0ns, segment granuality 16.0ns\n",
      "DAC configuration successful\n",
      "channel 3, segment 1 downloaded, length 640.0ns\n",
      "channel 3, segment 2 downloaded, length 480.0ns\n",
      "channel 3 task table downloaded\n"
     ]
    }
   ],
   "execution_count": 13
  },
  {
   "metadata": {
    "ExecuteTime": {
     "end_time": "2024-11-26T02:07:33.035445Z",
     "start_time": "2024-11-26T02:07:30.752298Z"
    }
   },
   "cell_type": "code",
   "source": [
    "ch1_digitizer=digitizer(address={'inst':inst,'channel':1},task_trigger_channel=1,carrier_frequency=carrier_frequency,numframes=1,framelen=4800)\n",
    "ch3_digitizer=digitizer(address={'inst':inst,'channel':2},task_trigger_channel=3,carrier_frequency=carrier_frequency,numframes=1,framelen=4800)"
   ],
   "id": "925061818042fb63",
   "outputs": [
    {
     "name": "stdout",
     "output_type": "stream",
     "text": [
      "digitizer sample rate 0.12GS/s, SCLK 2.00GS/s\n",
      "digitizer granularity 384.0ns\n",
      "Channel 1 acquisition frame Length 19200.0 ns, frame number 1\n",
      "digitizer sample rate 0.12GS/s, SCLK 2.00GS/s\n",
      "digitizer granularity 384.0ns\n",
      "Channel 2 acquisition frame Length 19200.0 ns, frame number 1\n"
     ]
    }
   ],
   "execution_count": 14
  },
  {
   "metadata": {
    "ExecuteTime": {
     "end_time": "2024-11-26T02:07:50.743148Z",
     "start_time": "2024-11-26T02:07:50.733505Z"
    }
   },
   "cell_type": "code",
   "source": [
    "print(ch1_digitizer.inquire_acquisition())\n",
    "print(ch3_digitizer.inquire_acquisition())"
   ],
   "id": "8a5a197f50579336",
   "outputs": [
    {
     "name": "stdout",
     "output_type": "stream",
     "text": [
      "(1, 1)\n",
      "(1, 1)\n"
     ]
    }
   ],
   "execution_count": 15
  },
  {
   "metadata": {
    "ExecuteTime": {
     "end_time": "2024-11-26T02:07:52.630941Z",
     "start_time": "2024-11-26T02:07:52.619399Z"
    }
   },
   "cell_type": "code",
   "source": [
    "ch1_digitizer.read_digitizer_data()\n",
    "ch3_digitizer.read_digitizer_data()"
   ],
   "id": "8e285e8e899805aa",
   "outputs": [
    {
     "name": "stdout",
     "output_type": "stream",
     "text": [
      "Total read size in bytes: 19200\n",
      "acquired 2400 complex points, 2400.0ns\n",
      "Total read size in bytes: 19200\n",
      "acquired 2400 complex points, 2400.0ns\n"
     ]
    }
   ],
   "execution_count": 16
  },
  {
   "metadata": {
    "ExecuteTime": {
     "end_time": "2024-11-26T02:07:55.024777Z",
     "start_time": "2024-11-26T02:07:54.870088Z"
    }
   },
   "cell_type": "code",
   "source": [
    "plt.plot(ch1_digitizer.wavI[0:1000])\n",
    "plt.plot(ch3_digitizer.wavI[0:1000])"
   ],
   "id": "ed8379871b629ef1",
   "outputs": [
    {
     "data": {
      "text/plain": [
       "[<matplotlib.lines.Line2D at 0x11bf6b55c70>]"
      ]
     },
     "execution_count": 17,
     "metadata": {},
     "output_type": "execute_result"
    },
    {
     "data": {
      "text/plain": [
       "<Figure size 640x480 with 1 Axes>"
      ],
      "image/png": "[encoded data removed]"
     },
     "metadata": {},
     "output_type": "display_data"
    }
   ],
   "execution_count": 17
  }
 ],
 "metadata": {
  "kernelspec": {
   "display_name": "Python 3",
   "language": "python",
   "name": "python3"
  },
  "language_info": {
   "codemirror_mode": {
    "name": "ipython",
    "version": 2
   },
   "file_extension": ".py",
   "mimetype": "text/x-python",
   "name": "python",
   "nbconvert_exporter": "python",
   "pygments_lexer": "ipython2",
   "version": "2.7.6"
  }
 },
 "nbformat": 4,
 "nbformat_minor": 5
}
